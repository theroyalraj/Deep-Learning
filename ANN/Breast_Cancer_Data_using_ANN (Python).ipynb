{
  "nbformat": 4,
  "nbformat_minor": 0,
  "metadata": {
    "kernelspec": {
      "language": "python",
      "display_name": "Python 3",
      "name": "python3"
    },
    "language_info": {
      "pygments_lexer": "ipython3",
      "nbconvert_exporter": "python",
      "version": "3.6.4",
      "file_extension": ".py",
      "codemirror_mode": {
        "name": "ipython",
        "version": 3
      },
      "name": "python",
      "mimetype": "text/x-python"
    },
    "colab": {
      "name": "Copy of Breast cancer data using ANN.ipynb",
      "provenance": [],
      "collapsed_sections": []
    }
  },
  "cells": [
    {
      "cell_type": "markdown",
      "metadata": {
        "_uuid": "8f2839f25d086af736a60e9eeb907d3b93b6e0e5",
        "_cell_guid": "b1076dfc-b9ad-4769-8c92-a6c4dae69d19",
        "id": "cMtoLihyDtl0",
        "colab_type": "text"
      },
      "source": [
        "# AIM\n",
        "To create a model to predict breast cancer using ANN\n",
        "Dataset has been taken from kaggle\n",
        "https://www.kaggle.com/uciml/breast-cancer-wisconsin-data"
      ]
    },
    {
      "cell_type": "markdown",
      "metadata": {
        "_uuid": "e43e4e6f84cb95700e1d05f07f20fb740bcdfd31",
        "_cell_guid": "0de730e5-6631-4d4f-882e-4c34b4a0c37a",
        "id": "8G-VfifWDtl9",
        "colab_type": "text"
      },
      "source": [
        "#Understanding the data\n",
        "## About Breast Cancer Wisconsin (Diagnostic) Data Set\n",
        "Features are computed from a digitized image of a fine needle aspirate (FNA) of a breast mass. They describe characteristics of the cell nuclei present in the image. n the 3-dimensional space is that described in: [K. P. Bennett and O. L. Mangasarian: \"Robust Linear Programming Discrimination of Two Linearly Inseparable Sets\", Optimization Methods and Software 1, 1992, 23-34].\n",
        "\n",
        "This database is also available through the UW CS ftp server: ftp ftp.cs.wisc.edu cd math-prog/cpo-dataset/machine-learn/WDBC/\n",
        "\n",
        "Also can be found on UCI Machine Learning Repository: https://archive.ics.uci.edu/ml/datasets/Breast+Cancer+Wisconsin+%28Diagnostic%29\n",
        "\n",
        "Attribute Information:\n",
        "\n",
        "1) ID number 2) Diagnosis (M = malignant, B = benign) 3-32)\n",
        "\n",
        "Ten real-valued features are computed for each cell nucleus:\n",
        "\n",
        "a) radius (mean of distances from center to points on the perimeter) b) texture (standard deviation of gray-scale values) c) perimeter d) area e) smoothness (local variation in radius lengths) f) compactness (perimeter^2 / area - 1.0) g) concavity (severity of concave portions of the contour) h) concave points (number of concave portions of the contour) i) symmetry j) fractal dimension (\"coastline approximation\" - 1)\n",
        "\n",
        "The mean, standard error and \"worst\" or largest (mean of the three largest values) of these features were computed for each image, resulting in 30 features. For instance, field 3 is Mean Radius, field 13 is Radius SE, field 23 is Worst Radius.\n",
        "\n",
        "All feature values are recoded with four significant digits.\n",
        "\n",
        "Missing attribute values: none\n",
        "\n",
        "Class distribution: 357 benign, 212 malignant"
      ]
    },
    {
      "cell_type": "code",
      "metadata": {
        "id": "KO7k0j8_EZ7X",
        "colab_type": "code",
        "colab": {}
      },
      "source": [
        "#! pip install -q kaggle"
      ],
      "execution_count": 0,
      "outputs": []
    },
    {
      "cell_type": "code",
      "metadata": {
        "id": "UrbPBxUJElV2",
        "colab_type": "code",
        "outputId": "04468639-6bfd-4d13-9d49-57361e177f21",
        "colab": {
          "base_uri": "https://localhost:8080/",
          "height": 35
        }
      },
      "source": [
        "#! mkdir ~/.kaggle\n",
        "\n"
      ],
      "execution_count": 0,
      "outputs": [
        {
          "output_type": "stream",
          "text": [
            "mkdir: cannot create directory ‘/root/.kaggle’: File exists\n"
          ],
          "name": "stdout"
        }
      ]
    },
    {
      "cell_type": "code",
      "metadata": {
        "id": "3eksYhxGFgVD",
        "colab_type": "code",
        "outputId": "5317f0a7-bd31-46b4-a58d-1e4365e4108a",
        "colab": {
          "resources": {
            "http://localhost:8080/nbextensions/google.colab/files.js": {
              "data": "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",
              "ok": true,
              "headers": [
                [
                  "content-type",
                  "application/javascript"
                ]
              ],
              "status": 200,
              "status_text": "OK"
            }
          },
          "base_uri": "https://localhost:8080/",
          "height": 95
        }
      },
      "source": [
        "#use this to add API key of kaggle to colab\n",
        "\n",
        "'''from google.colab import files\n",
        "\n",
        "files.upload()'''"
      ],
      "execution_count": 0,
      "outputs": [
        {
          "output_type": "display_data",
          "data": {
            "text/html": [
              "\n",
              "     <input type=\"file\" id=\"files-18a19224-5138-4634-97ea-1c1798c8090d\" name=\"files[]\" multiple disabled />\n",
              "     <output id=\"result-18a19224-5138-4634-97ea-1c1798c8090d\">\n",
              "      Upload widget is only available when the cell has been executed in the\n",
              "      current browser session. Please rerun this cell to enable.\n",
              "      </output>\n",
              "      <script src=\"/nbextensions/google.colab/files.js\"></script> "
            ],
            "text/plain": [
              "<IPython.core.display.HTML object>"
            ]
          },
          "metadata": {
            "tags": []
          }
        },
        {
          "output_type": "stream",
          "text": [
            "Saving kaggle.json to kaggle.json\n"
          ],
          "name": "stdout"
        },
        {
          "output_type": "execute_result",
          "data": {
            "text/plain": [
              "{'kaggle.json': b'{\"username\":\"theroyalraj\",\"key\":\"76295c92a3f80d0ae88f9ac9afd008b1\"}'}"
            ]
          },
          "metadata": {
            "tags": []
          },
          "execution_count": 9
        }
      ]
    },
    {
      "cell_type": "code",
      "metadata": {
        "id": "ubNmJrmXFBG9",
        "colab_type": "code",
        "colab": {}
      },
      "source": [
        "#! cp kaggle.json ~/.kaggle/"
      ],
      "execution_count": 0,
      "outputs": []
    },
    {
      "cell_type": "code",
      "metadata": {
        "id": "lBR43wU_E1Oe",
        "colab_type": "code",
        "outputId": "4f89196f-b491-415c-80d5-76fcbe50ca25",
        "colab": {
          "base_uri": "https://localhost:8080/",
          "height": 90
        }
      },
      "source": [
        "#!kaggle datasets download -d uciml/breast-cancer-wisconsin-data"
      ],
      "execution_count": 0,
      "outputs": [
        {
          "output_type": "stream",
          "text": [
            "Warning: Your Kaggle API key is readable by other users on this system! To fix this, you can run 'chmod 600 /root/.kaggle/kaggle.json'\n",
            "Downloading breast-cancer-wisconsin-data.zip to /content\n",
            "\r  0% 0.00/48.6k [00:00<?, ?B/s]\n",
            "\r100% 48.6k/48.6k [00:00<00:00, 18.1MB/s]\n"
          ],
          "name": "stdout"
        }
      ]
    },
    {
      "cell_type": "code",
      "metadata": {
        "id": "u86VO27qGCEV",
        "colab_type": "code",
        "outputId": "f4ce0f5f-022c-4919-b132-c0c5c1c5fdbc",
        "colab": {
          "base_uri": "https://localhost:8080/",
          "height": 35
        }
      },
      "source": [
        "!mkdir breast_cancer"
      ],
      "execution_count": 0,
      "outputs": [
        {
          "output_type": "stream",
          "text": [
            "mkdir: cannot create directory ‘breast_cancer’: File exists\n"
          ],
          "name": "stdout"
        }
      ]
    },
    {
      "cell_type": "code",
      "metadata": {
        "id": "kQjuhpKcGJGp",
        "colab_type": "code",
        "outputId": "3a52496f-9d41-450c-f836-dea0b15c988f",
        "colab": {
          "base_uri": "https://localhost:8080/",
          "height": 54
        }
      },
      "source": [
        "#! unzip breast-cancer-wisconsin-data.zip -d breast_cancer"
      ],
      "execution_count": 0,
      "outputs": [
        {
          "output_type": "stream",
          "text": [
            "Archive:  breast-cancer-wisconsin-data.zip\n",
            "  inflating: breast_cancer/data.csv  \n"
          ],
          "name": "stdout"
        }
      ]
    },
    {
      "cell_type": "code",
      "metadata": {
        "_uuid": "6f747b567b4b89f9aaa48e503ddddabf214cb278",
        "_cell_guid": "466b1182-f052-4452-abb5-4fbe3cd92095",
        "trusted": true,
        "id": "ocNhLaorDtl_",
        "colab_type": "code",
        "colab": {}
      },
      "source": [
        "# Importing libraries\n",
        "import pandas as pd\n",
        "import numpy as np\n",
        "import matplotlib.pyplot as plt\n",
        "import seaborn as sns\n",
        "\n",
        "# Importing data\n",
        "data = pd.read_csv('./breast_cancer/data.csv')\n",
        "del data['Unnamed: 32']"
      ],
      "execution_count": 0,
      "outputs": []
    },
    {
      "cell_type": "code",
      "metadata": {
        "_uuid": "f6af18d53dcaabb44c49b50c13ba3dafe7bbae10",
        "_cell_guid": "962b3671-f704-438d-bd54-931767e877cf",
        "trusted": true,
        "id": "tXbxZ41IDtmN",
        "colab_type": "code",
        "colab": {}
      },
      "source": [
        "X = data.iloc[:, 2:].values\n",
        "y = data.iloc[:, 1].values\n",
        "\n",
        "# Encoding categorical data\n",
        "from sklearn.preprocessing import LabelEncoder\n",
        "labelencoder_X_1 = LabelEncoder()\n",
        "y = labelencoder_X_1.fit_transform(y)\n",
        "\n",
        "# Splitting the dataset into the Training set and Test set\n",
        "from sklearn.model_selection import train_test_split\n",
        "X_train, X_test, y_train, y_test = train_test_split(X, y, test_size = 0.1, random_state = 0)\n",
        "\n",
        "#Feature Scaling\n",
        "from sklearn.preprocessing import StandardScaler\n",
        "sc = StandardScaler()\n",
        "X_train = sc.fit_transform(X_train)\n",
        "X_test = sc.transform(X_test)"
      ],
      "execution_count": 0,
      "outputs": []
    },
    {
      "cell_type": "markdown",
      "metadata": {
        "_uuid": "d9f057a42b57df5d2ad73b20fc6d81b5e33628e9",
        "_cell_guid": "a0d8f2ca-a51c-44e5-9399-345ec7f36509",
        "id": "aKXim_LsDtmX",
        "colab_type": "text"
      },
      "source": [
        "**Now that we have prepared data, we will import Keras and its packages.**"
      ]
    },
    {
      "cell_type": "code",
      "metadata": {
        "trusted": true,
        "id": "M_GAHOyGDtmY",
        "colab_type": "code",
        "outputId": "9e434f07-7d9c-4e1d-8054-3b1363a7ebc1",
        "colab": {
          "base_uri": "https://localhost:8080/",
          "height": 717
        }
      },
      "source": [
        "#!pip install tensorflow"
      ],
      "execution_count": 0,
      "outputs": [
        {
          "output_type": "stream",
          "text": [
            "Requirement already satisfied: tensorflow in /usr/local/lib/python3.6/dist-packages (2.2.0)\n",
            "Requirement already satisfied: absl-py>=0.7.0 in /usr/local/lib/python3.6/dist-packages (from tensorflow) (0.9.0)\n",
            "Requirement already satisfied: h5py<2.11.0,>=2.10.0 in /usr/local/lib/python3.6/dist-packages (from tensorflow) (2.10.0)\n",
            "Requirement already satisfied: numpy<2.0,>=1.16.0 in /usr/local/lib/python3.6/dist-packages (from tensorflow) (1.18.4)\n",
            "Requirement already satisfied: termcolor>=1.1.0 in /usr/local/lib/python3.6/dist-packages (from tensorflow) (1.1.0)\n",
            "Requirement already satisfied: wrapt>=1.11.1 in /usr/local/lib/python3.6/dist-packages (from tensorflow) (1.12.1)\n",
            "Requirement already satisfied: wheel>=0.26; python_version >= \"3\" in /usr/local/lib/python3.6/dist-packages (from tensorflow) (0.34.2)\n",
            "Requirement already satisfied: google-pasta>=0.1.8 in /usr/local/lib/python3.6/dist-packages (from tensorflow) (0.2.0)\n",
            "Requirement already satisfied: opt-einsum>=2.3.2 in /usr/local/lib/python3.6/dist-packages (from tensorflow) (3.2.1)\n",
            "Requirement already satisfied: astunparse==1.6.3 in /usr/local/lib/python3.6/dist-packages (from tensorflow) (1.6.3)\n",
            "Requirement already satisfied: protobuf>=3.8.0 in /usr/local/lib/python3.6/dist-packages (from tensorflow) (3.10.0)\n",
            "Requirement already satisfied: keras-preprocessing>=1.1.0 in /usr/local/lib/python3.6/dist-packages (from tensorflow) (1.1.2)\n",
            "Requirement already satisfied: gast==0.3.3 in /usr/local/lib/python3.6/dist-packages (from tensorflow) (0.3.3)\n",
            "Requirement already satisfied: tensorflow-estimator<2.3.0,>=2.2.0 in /usr/local/lib/python3.6/dist-packages (from tensorflow) (2.2.0)\n",
            "Requirement already satisfied: scipy==1.4.1; python_version >= \"3\" in /usr/local/lib/python3.6/dist-packages (from tensorflow) (1.4.1)\n",
            "Requirement already satisfied: tensorboard<2.3.0,>=2.2.0 in /usr/local/lib/python3.6/dist-packages (from tensorflow) (2.2.1)\n",
            "Requirement already satisfied: grpcio>=1.8.6 in /usr/local/lib/python3.6/dist-packages (from tensorflow) (1.29.0)\n",
            "Requirement already satisfied: six>=1.12.0 in /usr/local/lib/python3.6/dist-packages (from tensorflow) (1.12.0)\n",
            "Requirement already satisfied: setuptools in /usr/local/lib/python3.6/dist-packages (from protobuf>=3.8.0->tensorflow) (46.4.0)\n",
            "Requirement already satisfied: requests<3,>=2.21.0 in /usr/local/lib/python3.6/dist-packages (from tensorboard<2.3.0,>=2.2.0->tensorflow) (2.23.0)\n",
            "Requirement already satisfied: google-auth<2,>=1.6.3 in /usr/local/lib/python3.6/dist-packages (from tensorboard<2.3.0,>=2.2.0->tensorflow) (1.7.2)\n",
            "Requirement already satisfied: tensorboard-plugin-wit>=1.6.0 in /usr/local/lib/python3.6/dist-packages (from tensorboard<2.3.0,>=2.2.0->tensorflow) (1.6.0.post3)\n",
            "Requirement already satisfied: markdown>=2.6.8 in /usr/local/lib/python3.6/dist-packages (from tensorboard<2.3.0,>=2.2.0->tensorflow) (3.2.2)\n",
            "Requirement already satisfied: google-auth-oauthlib<0.5,>=0.4.1 in /usr/local/lib/python3.6/dist-packages (from tensorboard<2.3.0,>=2.2.0->tensorflow) (0.4.1)\n",
            "Requirement already satisfied: werkzeug>=0.11.15 in /usr/local/lib/python3.6/dist-packages (from tensorboard<2.3.0,>=2.2.0->tensorflow) (1.0.1)\n",
            "Requirement already satisfied: certifi>=2017.4.17 in /usr/local/lib/python3.6/dist-packages (from requests<3,>=2.21.0->tensorboard<2.3.0,>=2.2.0->tensorflow) (2020.4.5.1)\n",
            "Requirement already satisfied: urllib3!=1.25.0,!=1.25.1,<1.26,>=1.21.1 in /usr/local/lib/python3.6/dist-packages (from requests<3,>=2.21.0->tensorboard<2.3.0,>=2.2.0->tensorflow) (1.24.3)\n",
            "Requirement already satisfied: chardet<4,>=3.0.2 in /usr/local/lib/python3.6/dist-packages (from requests<3,>=2.21.0->tensorboard<2.3.0,>=2.2.0->tensorflow) (3.0.4)\n",
            "Requirement already satisfied: idna<3,>=2.5 in /usr/local/lib/python3.6/dist-packages (from requests<3,>=2.21.0->tensorboard<2.3.0,>=2.2.0->tensorflow) (2.9)\n",
            "Requirement already satisfied: cachetools<3.2,>=2.0.0 in /usr/local/lib/python3.6/dist-packages (from google-auth<2,>=1.6.3->tensorboard<2.3.0,>=2.2.0->tensorflow) (3.1.1)\n",
            "Requirement already satisfied: rsa<4.1,>=3.1.4 in /usr/local/lib/python3.6/dist-packages (from google-auth<2,>=1.6.3->tensorboard<2.3.0,>=2.2.0->tensorflow) (4.0)\n",
            "Requirement already satisfied: pyasn1-modules>=0.2.1 in /usr/local/lib/python3.6/dist-packages (from google-auth<2,>=1.6.3->tensorboard<2.3.0,>=2.2.0->tensorflow) (0.2.8)\n",
            "Requirement already satisfied: importlib-metadata; python_version < \"3.8\" in /usr/local/lib/python3.6/dist-packages (from markdown>=2.6.8->tensorboard<2.3.0,>=2.2.0->tensorflow) (1.6.0)\n",
            "Requirement already satisfied: requests-oauthlib>=0.7.0 in /usr/local/lib/python3.6/dist-packages (from google-auth-oauthlib<0.5,>=0.4.1->tensorboard<2.3.0,>=2.2.0->tensorflow) (1.3.0)\n",
            "Requirement already satisfied: pyasn1>=0.1.3 in /usr/local/lib/python3.6/dist-packages (from rsa<4.1,>=3.1.4->google-auth<2,>=1.6.3->tensorboard<2.3.0,>=2.2.0->tensorflow) (0.4.8)\n",
            "Requirement already satisfied: zipp>=0.5 in /usr/local/lib/python3.6/dist-packages (from importlib-metadata; python_version < \"3.8\"->markdown>=2.6.8->tensorboard<2.3.0,>=2.2.0->tensorflow) (3.1.0)\n",
            "Requirement already satisfied: oauthlib>=3.0.0 in /usr/local/lib/python3.6/dist-packages (from requests-oauthlib>=0.7.0->google-auth-oauthlib<0.5,>=0.4.1->tensorboard<2.3.0,>=2.2.0->tensorflow) (3.1.0)\n"
          ],
          "name": "stdout"
        }
      ]
    },
    {
      "cell_type": "code",
      "metadata": {
        "_uuid": "c01850e3c738b8a55146cce28e5f6fe82378032e",
        "_cell_guid": "51ab3d86-d1fd-40b6-a463-012e24a5c0a0",
        "trusted": true,
        "scrolled": false,
        "id": "n01_noiTDtmj",
        "colab_type": "code",
        "outputId": "d5546db8-ddb1-426c-9924-81e84e464dd8",
        "colab": {
          "base_uri": "https://localhost:8080/",
          "height": 35
        }
      },
      "source": [
        "import keras\n",
        "from keras.models import Sequential\n",
        "from keras.layers import Dense, Dropout"
      ],
      "execution_count": 0,
      "outputs": [
        {
          "output_type": "stream",
          "text": [
            "Using TensorFlow backend.\n"
          ],
          "name": "stderr"
        }
      ]
    },
    {
      "cell_type": "code",
      "metadata": {
        "trusted": true,
        "id": "r-FOIh5hDtmq",
        "colab_type": "code",
        "colab": {}
      },
      "source": [
        ""
      ],
      "execution_count": 0,
      "outputs": []
    },
    {
      "cell_type": "code",
      "metadata": {
        "_uuid": "f07a3637824959ff96269ff3806b994c4f64d117",
        "_cell_guid": "5e19dee2-9602-42c9-bc3b-41d912e0aa1d",
        "trusted": true,
        "id": "6eqWER0IDtm1",
        "colab_type": "code",
        "colab": {}
      },
      "source": [
        "# Initialising the ANN\n",
        "classifier = Sequential()"
      ],
      "execution_count": 0,
      "outputs": []
    },
    {
      "cell_type": "code",
      "metadata": {
        "_uuid": "cce53ac057db311d8221c027afe2d286bf0a5b51",
        "_cell_guid": "b1338309-a776-44b0-b04a-a8bdbf25d10e",
        "trusted": true,
        "id": "miIwAUo3Dtm8",
        "colab_type": "code",
        "outputId": "11c02404-0c77-47fb-a49a-3f3982e06f7b",
        "colab": {
          "base_uri": "https://localhost:8080/",
          "height": 110
        }
      },
      "source": [
        "# Adding the input layer and the first hidden layer\n",
        "classifier.add(Dense(output_dim=16, init='uniform', activation='relu', input_dim=30))\n",
        "# Adding dropout to prevent overfitting\n",
        "classifier.add(Dropout(p=0.1))"
      ],
      "execution_count": 0,
      "outputs": [
        {
          "output_type": "stream",
          "text": [
            "/usr/local/lib/python3.6/dist-packages/ipykernel_launcher.py:2: UserWarning: Update your `Dense` call to the Keras 2 API: `Dense(activation=\"relu\", input_dim=30, units=16, kernel_initializer=\"uniform\")`\n",
            "  \n",
            "/usr/local/lib/python3.6/dist-packages/ipykernel_launcher.py:4: UserWarning: Update your `Dropout` call to the Keras 2 API: `Dropout(rate=0.1)`\n",
            "  after removing the cwd from sys.path.\n"
          ],
          "name": "stderr"
        }
      ]
    },
    {
      "cell_type": "code",
      "metadata": {
        "id": "1bNQyhMtHOb7",
        "colab_type": "code",
        "outputId": "6fd2ab22-5b79-4027-b6e1-18da96fc4681",
        "colab": {
          "base_uri": "https://localhost:8080/",
          "height": 110
        }
      },
      "source": [
        ""
      ],
      "execution_count": 0,
      "outputs": [
        {
          "output_type": "stream",
          "text": [
            "/usr/local/lib/python3.6/dist-packages/ipykernel_launcher.py:1: UserWarning: Update your `Dense` call to the Keras 2 API: `Dense(activation=\"relu\", units=16, kernel_initializer=\"uniform\")`\n",
            "  \"\"\"Entry point for launching an IPython kernel.\n",
            "/usr/local/lib/python3.6/dist-packages/ipykernel_launcher.py:3: UserWarning: Update your `Dropout` call to the Keras 2 API: `Dropout(rate=0.1)`\n",
            "  This is separate from the ipykernel package so we can avoid doing imports until\n"
          ],
          "name": "stderr"
        }
      ]
    },
    {
      "cell_type": "code",
      "metadata": {
        "_uuid": "6105fb90265fdd6082648004657d55a43b187217",
        "_cell_guid": "7d6c2e16-5ffb-43b1-b238-c7434faa8808",
        "trusted": true,
        "id": "sBwIl2OMDtnG",
        "colab_type": "code",
        "outputId": "6c15b11c-4362-4d42-bed4-315d2c9c6967",
        "colab": {
          "base_uri": "https://localhost:8080/",
          "height": 110
        }
      },
      "source": [
        "# Adding the second hidden layer\n",
        "classifier.add(Dense(output_dim=16, init='uniform', activation='relu'))\n",
        "# Adding dropout to prevent overfitting\n",
        "classifier.add(Dropout(p=0.1))"
      ],
      "execution_count": 0,
      "outputs": [
        {
          "output_type": "stream",
          "text": [
            "/usr/local/lib/python3.6/dist-packages/ipykernel_launcher.py:2: UserWarning: Update your `Dense` call to the Keras 2 API: `Dense(activation=\"relu\", units=16, kernel_initializer=\"uniform\")`\n",
            "  \n",
            "/usr/local/lib/python3.6/dist-packages/ipykernel_launcher.py:4: UserWarning: Update your `Dropout` call to the Keras 2 API: `Dropout(rate=0.1)`\n",
            "  after removing the cwd from sys.path.\n"
          ],
          "name": "stderr"
        }
      ]
    },
    {
      "cell_type": "code",
      "metadata": {
        "_uuid": "ed51c97f1ea1a10af8bee99604de076b92cb2627",
        "_cell_guid": "628b8221-c76b-40bd-b5b9-b5aff04cbf31",
        "trusted": true,
        "id": "W2s43_jHDtnQ",
        "colab_type": "code",
        "outputId": "a5b762c9-f4e2-4ba5-d040-91f56183f6ae",
        "colab": {
          "base_uri": "https://localhost:8080/",
          "height": 74
        }
      },
      "source": [
        "# Adding the output layer\n",
        "classifier.add(Dense(output_dim=1, init='uniform', activation='sigmoid'))"
      ],
      "execution_count": 0,
      "outputs": [
        {
          "output_type": "stream",
          "text": [
            "/usr/local/lib/python3.6/dist-packages/ipykernel_launcher.py:2: UserWarning: Update your `Dense` call to the Keras 2 API: `Dense(activation=\"sigmoid\", units=1, kernel_initializer=\"uniform\")`\n",
            "  \n"
          ],
          "name": "stderr"
        }
      ]
    },
    {
      "cell_type": "code",
      "metadata": {
        "_uuid": "01ff691f323d264792730ae9d3af72a1e9106271",
        "_cell_guid": "9fc5ca11-edd6-4ddd-92b0-c5b6866abbec",
        "trusted": true,
        "id": "df4W6UoADtnY",
        "colab_type": "code",
        "colab": {}
      },
      "source": [
        "# Compiling the ANN\n",
        "classifier.compile(optimizer='adam', loss='binary_crossentropy', metrics=['accuracy'])"
      ],
      "execution_count": 0,
      "outputs": []
    },
    {
      "cell_type": "code",
      "metadata": {
        "_uuid": "6e2d2d3f17102bc9c4e8f093c914c58412b28ee3",
        "trusted": true,
        "_cell_guid": "deb09534-714c-4fd2-bac5-d5dff9c474ef",
        "scrolled": true,
        "id": "LtB6Hey8Dtni",
        "colab_type": "code",
        "outputId": "6925a9d2-8048-48df-d995-77c4659dd46d",
        "colab": {
          "base_uri": "https://localhost:8080/",
          "height": 1000
        }
      },
      "source": [
        "# Fitting the ANN to the Training set\n",
        "classifier.fit(X_train, y_train, batch_size=100, nb_epoch=150)\n",
        "# Long scroll ahead but worth\n",
        "# The batch size and number of epochs have been set using trial and error. Still looking for more efficient ways. Open to suggestions. "
      ],
      "execution_count": 0,
      "outputs": [
        {
          "output_type": "stream",
          "text": [
            "/usr/local/lib/python3.6/dist-packages/ipykernel_launcher.py:2: UserWarning: The `nb_epoch` argument in `fit` has been renamed `epochs`.\n",
            "  \n"
          ],
          "name": "stderr"
        },
        {
          "output_type": "stream",
          "text": [
            "Epoch 1/150\n",
            "512/512 [==============================] - 0s 392us/step - loss: 0.6928 - accuracy: 0.6211\n",
            "Epoch 2/150\n",
            "512/512 [==============================] - 0s 29us/step - loss: 0.6917 - accuracy: 0.6309\n",
            "Epoch 3/150\n",
            "512/512 [==============================] - 0s 26us/step - loss: 0.6902 - accuracy: 0.6328\n",
            "Epoch 4/150\n",
            "512/512 [==============================] - 0s 29us/step - loss: 0.6878 - accuracy: 0.6914\n",
            "Epoch 5/150\n",
            "512/512 [==============================] - 0s 30us/step - loss: 0.6836 - accuracy: 0.7871\n",
            "Epoch 6/150\n",
            "512/512 [==============================] - 0s 29us/step - loss: 0.6766 - accuracy: 0.8887\n",
            "Epoch 7/150\n",
            "512/512 [==============================] - 0s 26us/step - loss: 0.6639 - accuracy: 0.9277\n",
            "Epoch 8/150\n",
            "512/512 [==============================] - 0s 26us/step - loss: 0.6449 - accuracy: 0.9414\n",
            "Epoch 9/150\n",
            "512/512 [==============================] - 0s 30us/step - loss: 0.6154 - accuracy: 0.9473\n",
            "Epoch 10/150\n",
            "512/512 [==============================] - 0s 26us/step - loss: 0.5796 - accuracy: 0.9453\n",
            "Epoch 11/150\n",
            "512/512 [==============================] - 0s 28us/step - loss: 0.5304 - accuracy: 0.9453\n",
            "Epoch 12/150\n",
            "512/512 [==============================] - 0s 27us/step - loss: 0.4752 - accuracy: 0.9512\n",
            "Epoch 13/150\n",
            "512/512 [==============================] - 0s 24us/step - loss: 0.4242 - accuracy: 0.9512\n",
            "Epoch 14/150\n",
            "512/512 [==============================] - 0s 25us/step - loss: 0.3737 - accuracy: 0.9512\n",
            "Epoch 15/150\n",
            "512/512 [==============================] - 0s 25us/step - loss: 0.3259 - accuracy: 0.9590\n",
            "Epoch 16/150\n",
            "512/512 [==============================] - 0s 25us/step - loss: 0.2808 - accuracy: 0.9609\n",
            "Epoch 17/150\n",
            "512/512 [==============================] - 0s 27us/step - loss: 0.2421 - accuracy: 0.9648\n",
            "Epoch 18/150\n",
            "512/512 [==============================] - 0s 28us/step - loss: 0.2070 - accuracy: 0.9707\n",
            "Epoch 19/150\n",
            "512/512 [==============================] - 0s 29us/step - loss: 0.1739 - accuracy: 0.9707\n",
            "Epoch 20/150\n",
            "512/512 [==============================] - 0s 31us/step - loss: 0.1483 - accuracy: 0.9746\n",
            "Epoch 21/150\n",
            "512/512 [==============================] - 0s 31us/step - loss: 0.1321 - accuracy: 0.9727\n",
            "Epoch 22/150\n",
            "512/512 [==============================] - 0s 30us/step - loss: 0.1191 - accuracy: 0.9766\n",
            "Epoch 23/150\n",
            "512/512 [==============================] - 0s 27us/step - loss: 0.1141 - accuracy: 0.9785\n",
            "Epoch 24/150\n",
            "512/512 [==============================] - 0s 28us/step - loss: 0.1069 - accuracy: 0.9746\n",
            "Epoch 25/150\n",
            "512/512 [==============================] - 0s 28us/step - loss: 0.0958 - accuracy: 0.9746\n",
            "Epoch 26/150\n",
            "512/512 [==============================] - 0s 36us/step - loss: 0.0951 - accuracy: 0.9785\n",
            "Epoch 27/150\n",
            "512/512 [==============================] - 0s 29us/step - loss: 0.0918 - accuracy: 0.9805\n",
            "Epoch 28/150\n",
            "512/512 [==============================] - 0s 30us/step - loss: 0.0903 - accuracy: 0.9766\n",
            "Epoch 29/150\n",
            "512/512 [==============================] - 0s 35us/step - loss: 0.0878 - accuracy: 0.9785\n",
            "Epoch 30/150\n",
            "512/512 [==============================] - 0s 30us/step - loss: 0.0785 - accuracy: 0.9785\n",
            "Epoch 31/150\n",
            "512/512 [==============================] - 0s 24us/step - loss: 0.0771 - accuracy: 0.9805\n",
            "Epoch 32/150\n",
            "512/512 [==============================] - 0s 27us/step - loss: 0.0797 - accuracy: 0.9844\n",
            "Epoch 33/150\n",
            "512/512 [==============================] - 0s 29us/step - loss: 0.0737 - accuracy: 0.9844\n",
            "Epoch 34/150\n",
            "512/512 [==============================] - 0s 28us/step - loss: 0.0766 - accuracy: 0.9824\n",
            "Epoch 35/150\n",
            "512/512 [==============================] - 0s 37us/step - loss: 0.0780 - accuracy: 0.9824\n",
            "Epoch 36/150\n",
            "512/512 [==============================] - 0s 26us/step - loss: 0.0691 - accuracy: 0.9844\n",
            "Epoch 37/150\n",
            "512/512 [==============================] - 0s 27us/step - loss: 0.0695 - accuracy: 0.9844\n",
            "Epoch 38/150\n",
            "512/512 [==============================] - 0s 30us/step - loss: 0.0606 - accuracy: 0.9844\n",
            "Epoch 39/150\n",
            "512/512 [==============================] - 0s 30us/step - loss: 0.0696 - accuracy: 0.9824\n",
            "Epoch 40/150\n",
            "512/512 [==============================] - 0s 25us/step - loss: 0.0708 - accuracy: 0.9824\n",
            "Epoch 41/150\n",
            "512/512 [==============================] - 0s 28us/step - loss: 0.0642 - accuracy: 0.9844\n",
            "Epoch 42/150\n",
            "512/512 [==============================] - 0s 26us/step - loss: 0.0618 - accuracy: 0.9844\n",
            "Epoch 43/150\n",
            "512/512 [==============================] - 0s 30us/step - loss: 0.0668 - accuracy: 0.9844\n",
            "Epoch 44/150\n",
            "512/512 [==============================] - 0s 28us/step - loss: 0.0574 - accuracy: 0.9844\n",
            "Epoch 45/150\n",
            "512/512 [==============================] - 0s 28us/step - loss: 0.0585 - accuracy: 0.9844\n",
            "Epoch 46/150\n",
            "512/512 [==============================] - 0s 30us/step - loss: 0.0647 - accuracy: 0.9844\n",
            "Epoch 47/150\n",
            "512/512 [==============================] - 0s 34us/step - loss: 0.0553 - accuracy: 0.9844\n",
            "Epoch 48/150\n",
            "512/512 [==============================] - 0s 31us/step - loss: 0.0554 - accuracy: 0.9863\n",
            "Epoch 49/150\n",
            "512/512 [==============================] - 0s 24us/step - loss: 0.0577 - accuracy: 0.9863\n",
            "Epoch 50/150\n",
            "512/512 [==============================] - 0s 29us/step - loss: 0.0589 - accuracy: 0.9863\n",
            "Epoch 51/150\n",
            "512/512 [==============================] - 0s 29us/step - loss: 0.0602 - accuracy: 0.9844\n",
            "Epoch 52/150\n",
            "512/512 [==============================] - 0s 30us/step - loss: 0.0524 - accuracy: 0.9844\n",
            "Epoch 53/150\n",
            "512/512 [==============================] - 0s 27us/step - loss: 0.0555 - accuracy: 0.9863\n",
            "Epoch 54/150\n",
            "512/512 [==============================] - 0s 32us/step - loss: 0.0556 - accuracy: 0.9844\n",
            "Epoch 55/150\n",
            "512/512 [==============================] - 0s 32us/step - loss: 0.0579 - accuracy: 0.9844\n",
            "Epoch 56/150\n",
            "512/512 [==============================] - 0s 28us/step - loss: 0.0498 - accuracy: 0.9844\n",
            "Epoch 57/150\n",
            "512/512 [==============================] - 0s 26us/step - loss: 0.0549 - accuracy: 0.9844\n",
            "Epoch 58/150\n",
            "512/512 [==============================] - 0s 25us/step - loss: 0.0543 - accuracy: 0.9844\n",
            "Epoch 59/150\n",
            "512/512 [==============================] - 0s 28us/step - loss: 0.0502 - accuracy: 0.9883\n",
            "Epoch 60/150\n",
            "512/512 [==============================] - 0s 26us/step - loss: 0.0555 - accuracy: 0.9902\n",
            "Epoch 61/150\n",
            "512/512 [==============================] - 0s 23us/step - loss: 0.0547 - accuracy: 0.9902\n",
            "Epoch 62/150\n",
            "512/512 [==============================] - 0s 25us/step - loss: 0.0526 - accuracy: 0.9863\n",
            "Epoch 63/150\n",
            "512/512 [==============================] - 0s 27us/step - loss: 0.0515 - accuracy: 0.9863\n",
            "Epoch 64/150\n",
            "512/512 [==============================] - 0s 26us/step - loss: 0.0488 - accuracy: 0.9883\n",
            "Epoch 65/150\n",
            "512/512 [==============================] - 0s 27us/step - loss: 0.0479 - accuracy: 0.9922\n",
            "Epoch 66/150\n",
            "512/512 [==============================] - 0s 38us/step - loss: 0.0502 - accuracy: 0.9902\n",
            "Epoch 67/150\n",
            "512/512 [==============================] - 0s 28us/step - loss: 0.0473 - accuracy: 0.9902\n",
            "Epoch 68/150\n",
            "512/512 [==============================] - 0s 28us/step - loss: 0.0430 - accuracy: 0.9902\n",
            "Epoch 69/150\n",
            "512/512 [==============================] - 0s 28us/step - loss: 0.0478 - accuracy: 0.9922\n",
            "Epoch 70/150\n",
            "512/512 [==============================] - 0s 25us/step - loss: 0.0473 - accuracy: 0.9883\n",
            "Epoch 71/150\n",
            "512/512 [==============================] - 0s 33us/step - loss: 0.0467 - accuracy: 0.9902\n",
            "Epoch 72/150\n",
            "512/512 [==============================] - 0s 27us/step - loss: 0.0473 - accuracy: 0.9902\n",
            "Epoch 73/150\n",
            "512/512 [==============================] - 0s 29us/step - loss: 0.0470 - accuracy: 0.9922\n",
            "Epoch 74/150\n",
            "512/512 [==============================] - 0s 27us/step - loss: 0.0485 - accuracy: 0.9863\n",
            "Epoch 75/150\n",
            "512/512 [==============================] - 0s 29us/step - loss: 0.0447 - accuracy: 0.9902\n",
            "Epoch 76/150\n",
            "512/512 [==============================] - 0s 27us/step - loss: 0.0428 - accuracy: 0.9922\n",
            "Epoch 77/150\n",
            "512/512 [==============================] - 0s 25us/step - loss: 0.0420 - accuracy: 0.9922\n",
            "Epoch 78/150\n",
            "512/512 [==============================] - 0s 26us/step - loss: 0.0474 - accuracy: 0.9902\n",
            "Epoch 79/150\n",
            "512/512 [==============================] - 0s 26us/step - loss: 0.0439 - accuracy: 0.9922\n",
            "Epoch 80/150\n",
            "512/512 [==============================] - 0s 28us/step - loss: 0.0466 - accuracy: 0.9883\n",
            "Epoch 81/150\n",
            "512/512 [==============================] - 0s 22us/step - loss: 0.0477 - accuracy: 0.9922\n",
            "Epoch 82/150\n",
            "512/512 [==============================] - 0s 25us/step - loss: 0.0444 - accuracy: 0.9922\n",
            "Epoch 83/150\n",
            "512/512 [==============================] - 0s 28us/step - loss: 0.0508 - accuracy: 0.9883\n",
            "Epoch 84/150\n",
            "512/512 [==============================] - 0s 29us/step - loss: 0.0419 - accuracy: 0.9922\n",
            "Epoch 85/150\n",
            "512/512 [==============================] - 0s 32us/step - loss: 0.0450 - accuracy: 0.9922\n",
            "Epoch 86/150\n",
            "512/512 [==============================] - 0s 24us/step - loss: 0.0450 - accuracy: 0.9922\n",
            "Epoch 87/150\n",
            "512/512 [==============================] - 0s 31us/step - loss: 0.0432 - accuracy: 0.9922\n",
            "Epoch 88/150\n",
            "512/512 [==============================] - 0s 48us/step - loss: 0.0423 - accuracy: 0.9922\n",
            "Epoch 89/150\n",
            "512/512 [==============================] - 0s 34us/step - loss: 0.0374 - accuracy: 0.9922\n",
            "Epoch 90/150\n",
            "512/512 [==============================] - 0s 28us/step - loss: 0.0441 - accuracy: 0.9902\n",
            "Epoch 91/150\n",
            "512/512 [==============================] - 0s 23us/step - loss: 0.0415 - accuracy: 0.9922\n",
            "Epoch 92/150\n",
            "512/512 [==============================] - 0s 23us/step - loss: 0.0442 - accuracy: 0.9922\n",
            "Epoch 93/150\n",
            "512/512 [==============================] - 0s 27us/step - loss: 0.0516 - accuracy: 0.9902\n",
            "Epoch 94/150\n",
            "512/512 [==============================] - 0s 27us/step - loss: 0.0483 - accuracy: 0.9922\n",
            "Epoch 95/150\n",
            "512/512 [==============================] - 0s 24us/step - loss: 0.0397 - accuracy: 0.9922\n",
            "Epoch 96/150\n",
            "512/512 [==============================] - 0s 27us/step - loss: 0.0486 - accuracy: 0.9902\n",
            "Epoch 97/150\n",
            "512/512 [==============================] - 0s 28us/step - loss: 0.0397 - accuracy: 0.9922\n",
            "Epoch 98/150\n",
            "512/512 [==============================] - 0s 24us/step - loss: 0.0419 - accuracy: 0.9922\n",
            "Epoch 99/150\n",
            "512/512 [==============================] - 0s 24us/step - loss: 0.0390 - accuracy: 0.9922\n",
            "Epoch 100/150\n",
            "512/512 [==============================] - 0s 28us/step - loss: 0.0324 - accuracy: 0.9922\n",
            "Epoch 101/150\n",
            "512/512 [==============================] - 0s 29us/step - loss: 0.0456 - accuracy: 0.9883\n",
            "Epoch 102/150\n",
            "512/512 [==============================] - 0s 33us/step - loss: 0.0370 - accuracy: 0.9902\n",
            "Epoch 103/150\n",
            "512/512 [==============================] - 0s 25us/step - loss: 0.0459 - accuracy: 0.9922\n",
            "Epoch 104/150\n",
            "512/512 [==============================] - 0s 23us/step - loss: 0.0413 - accuracy: 0.9902\n",
            "Epoch 105/150\n",
            "512/512 [==============================] - 0s 33us/step - loss: 0.0474 - accuracy: 0.9902\n",
            "Epoch 106/150\n",
            "512/512 [==============================] - 0s 26us/step - loss: 0.0457 - accuracy: 0.9902\n",
            "Epoch 107/150\n",
            "512/512 [==============================] - 0s 27us/step - loss: 0.0414 - accuracy: 0.9922\n",
            "Epoch 108/150\n",
            "512/512 [==============================] - 0s 24us/step - loss: 0.0410 - accuracy: 0.9922\n",
            "Epoch 109/150\n",
            "512/512 [==============================] - 0s 24us/step - loss: 0.0361 - accuracy: 0.9922\n",
            "Epoch 110/150\n",
            "512/512 [==============================] - 0s 29us/step - loss: 0.0480 - accuracy: 0.9883\n",
            "Epoch 111/150\n",
            "512/512 [==============================] - 0s 24us/step - loss: 0.0423 - accuracy: 0.9922\n",
            "Epoch 112/150\n",
            "512/512 [==============================] - 0s 25us/step - loss: 0.0361 - accuracy: 0.9922\n",
            "Epoch 113/150\n",
            "512/512 [==============================] - 0s 32us/step - loss: 0.0414 - accuracy: 0.9902\n",
            "Epoch 114/150\n",
            "512/512 [==============================] - 0s 27us/step - loss: 0.0416 - accuracy: 0.9902\n",
            "Epoch 115/150\n",
            "512/512 [==============================] - 0s 32us/step - loss: 0.0403 - accuracy: 0.9922\n",
            "Epoch 116/150\n",
            "512/512 [==============================] - 0s 31us/step - loss: 0.0424 - accuracy: 0.9922\n",
            "Epoch 117/150\n",
            "512/512 [==============================] - 0s 30us/step - loss: 0.0415 - accuracy: 0.9922\n",
            "Epoch 118/150\n",
            "512/512 [==============================] - 0s 31us/step - loss: 0.0345 - accuracy: 0.9922\n",
            "Epoch 119/150\n",
            "512/512 [==============================] - 0s 30us/step - loss: 0.0360 - accuracy: 0.9922\n",
            "Epoch 120/150\n",
            "512/512 [==============================] - 0s 29us/step - loss: 0.0393 - accuracy: 0.9902\n",
            "Epoch 121/150\n",
            "512/512 [==============================] - 0s 26us/step - loss: 0.0393 - accuracy: 0.9922\n",
            "Epoch 122/150\n",
            "512/512 [==============================] - 0s 28us/step - loss: 0.0426 - accuracy: 0.9922\n",
            "Epoch 123/150\n",
            "512/512 [==============================] - 0s 30us/step - loss: 0.0395 - accuracy: 0.9922\n",
            "Epoch 124/150\n",
            "512/512 [==============================] - 0s 26us/step - loss: 0.0377 - accuracy: 0.9922\n",
            "Epoch 125/150\n",
            "512/512 [==============================] - 0s 31us/step - loss: 0.0372 - accuracy: 0.9922\n",
            "Epoch 126/150\n",
            "512/512 [==============================] - 0s 26us/step - loss: 0.0338 - accuracy: 0.9902\n",
            "Epoch 127/150\n",
            "512/512 [==============================] - 0s 27us/step - loss: 0.0380 - accuracy: 0.9902\n",
            "Epoch 128/150\n",
            "512/512 [==============================] - 0s 26us/step - loss: 0.0361 - accuracy: 0.9902\n",
            "Epoch 129/150\n",
            "512/512 [==============================] - 0s 28us/step - loss: 0.0415 - accuracy: 0.9922\n",
            "Epoch 130/150\n",
            "512/512 [==============================] - 0s 26us/step - loss: 0.0412 - accuracy: 0.9902\n",
            "Epoch 131/150\n",
            "512/512 [==============================] - 0s 30us/step - loss: 0.0408 - accuracy: 0.9922\n",
            "Epoch 132/150\n",
            "512/512 [==============================] - 0s 29us/step - loss: 0.0386 - accuracy: 0.9883\n",
            "Epoch 133/150\n",
            "512/512 [==============================] - 0s 32us/step - loss: 0.0372 - accuracy: 0.9922\n",
            "Epoch 134/150\n",
            "512/512 [==============================] - 0s 27us/step - loss: 0.0377 - accuracy: 0.9922\n",
            "Epoch 135/150\n",
            "512/512 [==============================] - 0s 26us/step - loss: 0.0408 - accuracy: 0.9922\n",
            "Epoch 136/150\n",
            "512/512 [==============================] - 0s 27us/step - loss: 0.0434 - accuracy: 0.9922\n",
            "Epoch 137/150\n",
            "512/512 [==============================] - 0s 26us/step - loss: 0.0368 - accuracy: 0.9922\n",
            "Epoch 138/150\n",
            "512/512 [==============================] - 0s 26us/step - loss: 0.0400 - accuracy: 0.9922\n",
            "Epoch 139/150\n",
            "512/512 [==============================] - 0s 39us/step - loss: 0.0452 - accuracy: 0.9902\n",
            "Epoch 140/150\n",
            "512/512 [==============================] - 0s 32us/step - loss: 0.0337 - accuracy: 0.9922\n",
            "Epoch 141/150\n",
            "512/512 [==============================] - 0s 32us/step - loss: 0.0360 - accuracy: 0.9922\n",
            "Epoch 142/150\n",
            "512/512 [==============================] - 0s 42us/step - loss: 0.0376 - accuracy: 0.9902\n",
            "Epoch 143/150\n",
            "512/512 [==============================] - 0s 31us/step - loss: 0.0385 - accuracy: 0.9902\n",
            "Epoch 144/150\n",
            "512/512 [==============================] - 0s 25us/step - loss: 0.0319 - accuracy: 0.9902\n",
            "Epoch 145/150\n",
            "512/512 [==============================] - 0s 24us/step - loss: 0.0360 - accuracy: 0.9922\n",
            "Epoch 146/150\n",
            "512/512 [==============================] - 0s 27us/step - loss: 0.0395 - accuracy: 0.9883\n",
            "Epoch 147/150\n",
            "512/512 [==============================] - 0s 36us/step - loss: 0.0302 - accuracy: 0.9902\n",
            "Epoch 148/150\n",
            "512/512 [==============================] - 0s 24us/step - loss: 0.0428 - accuracy: 0.9902\n",
            "Epoch 149/150\n",
            "512/512 [==============================] - 0s 34us/step - loss: 0.0356 - accuracy: 0.9922\n",
            "Epoch 150/150\n",
            "512/512 [==============================] - 0s 41us/step - loss: 0.0354 - accuracy: 0.9922\n"
          ],
          "name": "stdout"
        },
        {
          "output_type": "execute_result",
          "data": {
            "text/plain": [
              "<keras.callbacks.callbacks.History at 0x7f1bc1b41cf8>"
            ]
          },
          "metadata": {
            "tags": []
          },
          "execution_count": 28
        }
      ]
    },
    {
      "cell_type": "markdown",
      "metadata": {
        "_uuid": "e700dd6d93bfc99f1fb10a1914c33764df95b79f",
        "_cell_guid": "91cb842e-c693-4ddc-938e-b25dd5fd8d64",
        "id": "QK4yDNfPDtnr",
        "colab_type": "text"
      },
      "source": [
        "Batch size defines number of samples that going to be propagated through the network.\n",
        "\n",
        "An Epoch is a complete pass through all the training data."
      ]
    },
    {
      "cell_type": "code",
      "metadata": {
        "_uuid": "2a668b12248656821e4797a95ed0a878a63d8ee1",
        "_cell_guid": "cc405d00-4e8c-4882-8251-d83d4b269895",
        "trusted": true,
        "id": "u2MoPnmcDtns",
        "colab_type": "code",
        "colab": {}
      },
      "source": [
        "# Predicting the Test set results\n",
        "y_pred = classifier.predict(X_test)\n",
        "y_pred = (y_pred > 0.5)"
      ],
      "execution_count": 0,
      "outputs": []
    },
    {
      "cell_type": "code",
      "metadata": {
        "_uuid": "b4c8343b16d7022ccb77f8e64f46e96ac5fbe41c",
        "_cell_guid": "22c127bd-8608-4d8e-909b-4b90b7e24fee",
        "trusted": true,
        "id": "De416YzlDtn0",
        "colab_type": "code",
        "colab": {}
      },
      "source": [
        "# Making the Confusion Matrix\n",
        "from sklearn.metrics import confusion_matrix\n",
        "cm = confusion_matrix(y_test, y_pred)"
      ],
      "execution_count": 0,
      "outputs": []
    },
    {
      "cell_type": "code",
      "metadata": {
        "_uuid": "5ed1db854bfc4bc4fb49782e7adcaaf25fe9d41e",
        "_cell_guid": "2d631e23-de49-42ff-94e3-528f4131e97e",
        "trusted": true,
        "id": "ZS1KHuo5Dtn7",
        "colab_type": "code",
        "outputId": "4d97db2e-d279-4e8f-e7f4-6c7cbf9122be",
        "colab": {
          "base_uri": "https://localhost:8080/",
          "height": 35
        }
      },
      "source": [
        "print(\"Our accuracy is {}%\".format(((cm[0][0] + cm[1][1])/57)*100))"
      ],
      "execution_count": 0,
      "outputs": [
        {
          "output_type": "stream",
          "text": [
            "Our accuracy is 100.0%\n"
          ],
          "name": "stdout"
        }
      ]
    },
    {
      "cell_type": "code",
      "metadata": {
        "trusted": true,
        "_uuid": "837036fec6bd2c2ee831bd3232804b001e472678",
        "id": "nW6cvvArDtoB",
        "colab_type": "code",
        "outputId": "6ab59fda-8bf4-4434-e004-902495827f11",
        "colab": {
          "base_uri": "https://localhost:8080/",
          "height": 269
        }
      },
      "source": [
        "sns.heatmap(cm,annot=True)\n",
        "plt.savefig('h.png')"
      ],
      "execution_count": 0,
      "outputs": [
        {
          "output_type": "display_data",
          "data": {
            "image/png": "[encoded data removed]",
            "text/plain": [
              "<Figure size 432x288 with 2 Axes>"
            ]
          },
          "metadata": {
            "tags": [],
            "needs_background": "light"
          }
        }
      ]
    },
    {
      "cell_type": "code",
      "metadata": {
        "id": "jAIaACNqHirD",
        "colab_type": "code",
        "colab": {}
      },
      "source": [
        "\n",
        "\n",
        "keras.backend.clear_session()"
      ],
      "execution_count": 0,
      "outputs": []
    },
    {
      "cell_type": "code",
      "metadata": {
        "id": "Kf19K4cfHjQK",
        "colab_type": "code",
        "colab": {}
      },
      "source": [
        ""
      ],
      "execution_count": 0,
      "outputs": []
    }
  ]
}