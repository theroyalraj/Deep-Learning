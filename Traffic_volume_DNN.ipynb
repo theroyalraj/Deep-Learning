{
  "nbformat": 4,
  "nbformat_minor": 0,
  "metadata": {
    "kernelspec": {
      "name": "python3",
      "display_name": "Python 3"
    },
    "language_info": {
      "codemirror_mode": {
        "name": "ipython",
        "version": 3
      },
      "file_extension": ".py",
      "mimetype": "text/x-python",
      "name": "python",
      "nbconvert_exporter": "python",
      "pygments_lexer": "ipython3",
      "version": "3.7.3"
    },
    "colab": {
      "name": "comp_DNN.ipynb",
      "version": "0.3.2",
      "provenance": [],
      "include_colab_link": true
    },
    "accelerator": "GPU"
  },
  "cells": [
    {
      "cell_type": "markdown",
      "metadata": {
        "id": "view-in-github",
        "colab_type": "text"
      },
      "source": [
        "<a href=\"https://colab.research.google.com/github/theroyalraj/Deep-Learning/blob/master/Traffic_volume_DNN.ipynb\" target=\"_parent\"><img src=\"https://colab.research.google.com/assets/colab-badge.svg\" alt=\"Open In Colab\"/></a>"
      ]
    },
    {
      "cell_type": "code",
      "metadata": {
        "id": "Cx0OlSkNAfkI",
        "colab_type": "code",
        "colab": {}
      },
      "source": [
        "import numpy as np"
      ],
      "execution_count": 0,
      "outputs": []
    },
    {
      "cell_type": "code",
      "metadata": {
        "id": "5c30zaQFArYM",
        "colab_type": "code",
        "colab": {
          "base_uri": "https://localhost:8080/",
          "height": 54
        },
        "outputId": "f07a35b3-65a2-451a-eb0e-a35d0318fb36"
      },
      "source": [
        "from google.colab import drive\n",
        "drive.mount('/gdrive')\n",
        "%cd /gdrive"
      ],
      "execution_count": 5,
      "outputs": [
        {
          "output_type": "stream",
          "text": [
            "Drive already mounted at /gdrive; to attempt to forcibly remount, call drive.mount(\"/gdrive\", force_remount=True).\n",
            "/gdrive\n"
          ],
          "name": "stdout"
        }
      ]
    },
    {
      "cell_type": "code",
      "metadata": {
        "id": "hyi2hEZqN6yv",
        "colab_type": "code",
        "colab": {}
      },
      "source": [
        ""
      ],
      "execution_count": 0,
      "outputs": []
    },
    {
      "cell_type": "code",
      "metadata": {
        "id": "cBEOa3J4Afk8",
        "colab_type": "code",
        "colab": {}
      },
      "source": [
        "class traffic():\n",
        "    # Dataset is a mandatory arugment, while the batch_size is optional\n",
        "    # If you don't input batch_size, it will automatically take the value: None\n",
        "    def __init__(self, dataset, batch_size = None):\n",
        "    \n",
        "        # The dataset that loads is one of \"train\", \"validation\", \"test\".\n",
        "        # e.g. if I call this class with x('train',5), it will load 'Audiobooks_data_train.npz' with a batch size of 5.\n",
        "        npz = np.load('/gdrive/My Drive/Colab Notebooks/comp_data_{0}.npz'.format(dataset))\n",
        "        \n",
        "        # Two variables that take the values of the inputs and the targets. Inputs are floats, targets are integers\n",
        "        self.inputs, self.targets = npz['inputs'].astype(np.float), npz['targets'].astype(np.int)\n",
        "        \n",
        "        # Counts the batch number, given the size you feed it later\n",
        "        # If the batch size is None, we are either validating or testing, so we want to take the data in a single batch\n",
        "        if batch_size is None:\n",
        "            self.batch_size = self.inputs.shape[0]\n",
        "        else:\n",
        "            self.batch_size = batch_size\n",
        "        self.curr_batch = 0\n",
        "        self.batch_count = self.inputs.shape[0] // self.batch_size\n",
        "    \n",
        "    # A method which loads the next batch\n",
        "    def __next__(self):\n",
        "        if self.curr_batch >= self.batch_count:\n",
        "            self.curr_batch = 0\n",
        "            raise StopIteration()\n",
        "            \n",
        "        # You slice the dataset in batches and then the \"next\" function loads them one after the other\n",
        "        batch_slice = slice(self.curr_batch * self.batch_size, (self.curr_batch + 1) * self.batch_size)\n",
        "        inputs_batch = self.inputs[batch_slice]\n",
        "        targets_batch = self.targets[batch_slice]\n",
        "        self.curr_batch += 1\n",
        "        \n",
        "        # One-hot encode the targets. In this example it's a bit superfluous since we have a 0/1 column \n",
        "        classes_num = 7280\n",
        "        targets_one_hot = np.zeros((targets_batch.shape[0], classes_num))\n",
        "        targets_one_hot[range(targets_batch.shape[0]), targets_batch] = 1\n",
        "        \n",
        "        # The function will return the inputs batch and the one-hot encoded targets\n",
        "        return inputs_batch, targets_one_hot\n",
        "\n",
        "    def __iter__(self):\n",
        "        return self"
      ],
      "execution_count": 0,
      "outputs": []
    },
    {
      "cell_type": "code",
      "metadata": {
        "id": "JvELzrVFAfk_",
        "colab_type": "code",
        "colab": {
          "base_uri": "https://localhost:8080/",
          "height": 1000
        },
        "outputId": "27b54138-cd3c-4368-9d17-c4332839976d"
      },
      "source": [
        "import tensorflow as tf\n",
        "\n",
        "# Input size depends on the number of input variables. We have 10 of them\n",
        "input_size = 12\n",
        "# Output size is 2, as we one-hot encoded the targets.\n",
        "output_size = 7280\n",
        "# Choose a hidden_layer_size\n",
        "hidden_layer_size = 200\n",
        "\n",
        "# Reset the default graph, so you can fiddle with the hyperparameters and then rerun the code.\n",
        "tf.reset_default_graph()\n",
        "\n",
        "# Create the placeholders\n",
        "inputs = tf.placeholder(tf.float32, [None, input_size])\n",
        "targets = tf.placeholder(tf.int32, [None, output_size])\n",
        "\n",
        "# Outline the model. We will create a net with 2 hidden layers\n",
        "weights_1 = tf.get_variable(\"weights_1\", [input_size, hidden_layer_size])\n",
        "biases_1 = tf.get_variable(\"biases_1\", [hidden_layer_size])\n",
        "outputs_1 = tf.nn.relu(tf.matmul(inputs, weights_1) + biases_1)\n",
        "\n",
        "weights_2 = tf.get_variable(\"weights_2\", [hidden_layer_size, hidden_layer_size])\n",
        "biases_2 = tf.get_variable(\"biases_2\", [hidden_layer_size])\n",
        "outputs_2 = tf.nn.relu(tf.matmul(outputs_1, weights_2) + biases_2)\n",
        "\n",
        "weights_3 = tf.get_variable(\"weights_3\", [hidden_layer_size, hidden_layer_size])\n",
        "biases_3 = tf.get_variable(\"biases_3\", [hidden_layer_size])\n",
        "outputs_3 = tf.nn.relu(tf.matmul(outputs_2, weights_3) + biases_3)\n",
        "\n",
        "weights_4 = tf.get_variable(\"weights_4\", [hidden_layer_size, output_size])\n",
        "biases_4 = tf.get_variable(\"biases_4\", [output_size])\n",
        "# We will incorporate the softmax activation into the loss, as in the previous example\n",
        "outputs = tf.matmul(outputs_3, weights_4) + biases_4\n",
        "\n",
        "# Use the softmax cross entropy loss with logits\n",
        "loss = tf.nn.softmax_cross_entropy_with_logits_v2(logits=outputs, labels=targets)\n",
        "mean_loss = tf.reduce_mean(loss)\n",
        "\n",
        "# Get a 0 or 1 for every input indicating whether it output the correct answer\n",
        "out_equals_target = tf.equal(tf.argmax(outputs, 1), tf.argmax(targets, 1))\n",
        "accuracy = tf.reduce_mean(tf.cast(out_equals_target, tf.float32))\n",
        "\n",
        "# Optimize with Adam\n",
        "optimize = tf.train.AdamOptimizer(learning_rate=0.0001).minimize(mean_loss)\n",
        "\n",
        "# Create a session\n",
        "sess = tf.InteractiveSession()\n",
        "\n",
        "# Initialize the variables\n",
        "initializer = tf.global_variables_initializer()\n",
        "sess.run(initializer)\n",
        "\n",
        "# Choose the batch size\n",
        "batch_size = 50\n",
        "\n",
        "# Set early stopping mechanisms\n",
        "max_epochs = 100\n",
        "prev_validation_loss = float('inf')\n",
        "\n",
        "# Load the first batch of training and validation, using the class we created. \n",
        "train_data = traffic('train', batch_size)\n",
        "validation_data = traffic('validation')\n",
        "\n",
        "# Create the loop for epochs \n",
        "for epoch_counter in range(max_epochs):\n",
        "    \n",
        "    # Set the epoch loss to 0, and make it a float\n",
        "    curr_epoch_loss = 0.\n",
        "    \n",
        "   \n",
        "    for input_batch, target_batch in train_data:\n",
        "        _, batch_loss = sess.run([optimize, mean_loss], \n",
        "            feed_dict={inputs: input_batch, targets: target_batch})\n",
        "        \n",
        "        #Record the batch loss into the current epoch loss\n",
        "        curr_epoch_loss += batch_loss\n",
        "    \n",
        "    # Find the mean curr_epoch_loss\n",
        "    # batch_count is a variable, defined in the Audiobooks_Data_Reader class\n",
        "    curr_epoch_loss /= train_data.batch_count\n",
        "    \n",
        "    # Set validation loss and accuracy for the epoch to zero\n",
        "    validation_loss = 0.\n",
        "    validation_accuracy = 0.\n",
        "    \n",
        "    # Use the same logic of the code to forward propagate the validation set\n",
        "    # There will be a single batch, as the class was created in this way\n",
        "    for input_batch, target_batch in validation_data:\n",
        "        validation_loss, validation_accuracy = sess.run([mean_loss, accuracy],\n",
        "            feed_dict={inputs: input_batch, targets: target_batch})\n",
        "    \n",
        "    # Print statistics for the current epoch\n",
        "    print('Epoch '+str(epoch_counter+1)+\n",
        "          '. Training loss: '+'{0:.4f}'.format(curr_epoch_loss)+\n",
        "          '. Validation loss: '+'{0:.4f}'.format(validation_loss)+\n",
        "          '. Validation accuracy: '+'{0:.3f}'.format(validation_accuracy * 100.)+'%')\n",
        "    \n",
        "    # Trigger early stopping if validation loss begins increasing.\n",
        "    if validation_loss > prev_validation_loss:\n",
        "        print(\"\\n------Early Stopping------\\n\")\n",
        "        break\n",
        "        \n",
        "    # Store this epoch's validation loss to be used as previous in the next iteration.\n",
        "    prev_validation_loss = validation_loss\n",
        "    \n",
        "print('\\nEnd of training.')\n",
        "validation_accuracy * 100"
      ],
      "execution_count": 19,
      "outputs": [
        {
          "output_type": "stream",
          "text": [
            "/usr/local/lib/python3.6/dist-packages/tensorflow/python/client/session.py:1735: UserWarning: An interactive session is already active. This can cause out-of-memory errors in some cases. You must explicitly call `InteractiveSession.close()` to release resources held by the other session(s).\n",
            "  warnings.warn('An interactive session is already active. This can '\n"
          ],
          "name": "stderr"
        },
        {
          "output_type": "stream",
          "text": [
            "Epoch 1. Training loss: 2.9219. Validation loss: 1.3618. Validation accuracy: 56.504%\n",
            "Epoch 2. Training loss: 1.3200. Validation loss: 1.2614. Validation accuracy: 58.667%\n",
            "Epoch 3. Training loss: 1.2441. Validation loss: 1.2118. Validation accuracy: 59.674%\n",
            "Epoch 4. Training loss: 1.2013. Validation loss: 1.1798. Validation accuracy: 60.504%\n",
            "Epoch 5. Training loss: 1.1722. Validation loss: 1.1597. Validation accuracy: 60.533%\n",
            "Epoch 6. Training loss: 1.1519. Validation loss: 1.1449. Validation accuracy: 61.274%\n",
            "Epoch 7. Training loss: 1.1373. Validation loss: 1.1341. Validation accuracy: 61.570%\n",
            "Epoch 8. Training loss: 1.1263. Validation loss: 1.1262. Validation accuracy: 61.570%\n",
            "Epoch 9. Training loss: 1.1179. Validation loss: 1.1202. Validation accuracy: 61.541%\n",
            "Epoch 10. Training loss: 1.1111. Validation loss: 1.1153. Validation accuracy: 61.511%\n",
            "Epoch 11. Training loss: 1.1055. Validation loss: 1.1112. Validation accuracy: 61.778%\n",
            "Epoch 12. Training loss: 1.1007. Validation loss: 1.1076. Validation accuracy: 62.044%\n",
            "Epoch 13. Training loss: 1.0964. Validation loss: 1.1042. Validation accuracy: 62.163%\n",
            "Epoch 14. Training loss: 1.0922. Validation loss: 1.1010. Validation accuracy: 62.133%\n",
            "Epoch 15. Training loss: 1.0884. Validation loss: 1.0980. Validation accuracy: 62.281%\n",
            "Epoch 16. Training loss: 1.0849. Validation loss: 1.0950. Validation accuracy: 62.400%\n",
            "Epoch 17. Training loss: 1.0814. Validation loss: 1.0923. Validation accuracy: 62.430%\n",
            "Epoch 18. Training loss: 1.0782. Validation loss: 1.0895. Validation accuracy: 62.400%\n",
            "Epoch 19. Training loss: 1.0751. Validation loss: 1.0870. Validation accuracy: 62.459%\n",
            "Epoch 20. Training loss: 1.0720. Validation loss: 1.0844. Validation accuracy: 62.548%\n",
            "Epoch 21. Training loss: 1.0691. Validation loss: 1.0821. Validation accuracy: 62.637%\n",
            "Epoch 22. Training loss: 1.0663. Validation loss: 1.0797. Validation accuracy: 62.696%\n",
            "Epoch 23. Training loss: 1.0635. Validation loss: 1.0775. Validation accuracy: 62.844%\n",
            "Epoch 24. Training loss: 1.0609. Validation loss: 1.0755. Validation accuracy: 62.904%\n",
            "Epoch 25. Training loss: 1.0581. Validation loss: 1.0736. Validation accuracy: 62.963%\n",
            "Epoch 26. Training loss: 1.0555. Validation loss: 1.0716. Validation accuracy: 62.963%\n",
            "Epoch 27. Training loss: 1.0529. Validation loss: 1.0699. Validation accuracy: 62.963%\n",
            "Epoch 28. Training loss: 1.0503. Validation loss: 1.0680. Validation accuracy: 62.963%\n",
            "Epoch 29. Training loss: 1.0478. Validation loss: 1.0662. Validation accuracy: 62.933%\n",
            "Epoch 30. Training loss: 1.0453. Validation loss: 1.0646. Validation accuracy: 63.141%\n",
            "Epoch 31. Training loss: 1.0429. Validation loss: 1.0628. Validation accuracy: 63.289%\n",
            "Epoch 32. Training loss: 1.0405. Validation loss: 1.0614. Validation accuracy: 63.319%\n",
            "Epoch 33. Training loss: 1.0381. Validation loss: 1.0598. Validation accuracy: 63.348%\n",
            "Epoch 34. Training loss: 1.0358. Validation loss: 1.0583. Validation accuracy: 63.437%\n",
            "Epoch 35. Training loss: 1.0333. Validation loss: 1.0568. Validation accuracy: 63.348%\n",
            "Epoch 36. Training loss: 1.0310. Validation loss: 1.0555. Validation accuracy: 63.437%\n",
            "Epoch 37. Training loss: 1.0287. Validation loss: 1.0542. Validation accuracy: 63.348%\n",
            "Epoch 38. Training loss: 1.0264. Validation loss: 1.0529. Validation accuracy: 63.437%\n",
            "Epoch 39. Training loss: 1.0240. Validation loss: 1.0519. Validation accuracy: 63.496%\n",
            "Epoch 40. Training loss: 1.0217. Validation loss: 1.0508. Validation accuracy: 63.496%\n",
            "Epoch 41. Training loss: 1.0193. Validation loss: 1.0497. Validation accuracy: 63.674%\n",
            "Epoch 42. Training loss: 1.0170. Validation loss: 1.0487. Validation accuracy: 63.763%\n",
            "Epoch 43. Training loss: 1.0146. Validation loss: 1.0478. Validation accuracy: 63.763%\n",
            "Epoch 44. Training loss: 1.0123. Validation loss: 1.0472. Validation accuracy: 63.704%\n",
            "Epoch 45. Training loss: 1.0100. Validation loss: 1.0461. Validation accuracy: 63.852%\n",
            "Epoch 46. Training loss: 1.0077. Validation loss: 1.0451. Validation accuracy: 63.793%\n",
            "Epoch 47. Training loss: 1.0054. Validation loss: 1.0442. Validation accuracy: 63.822%\n",
            "Epoch 48. Training loss: 1.0031. Validation loss: 1.0436. Validation accuracy: 63.941%\n",
            "Epoch 49. Training loss: 1.0009. Validation loss: 1.0428. Validation accuracy: 63.941%\n",
            "Epoch 50. Training loss: 0.9987. Validation loss: 1.0420. Validation accuracy: 63.941%\n",
            "Epoch 51. Training loss: 0.9965. Validation loss: 1.0413. Validation accuracy: 63.881%\n",
            "Epoch 52. Training loss: 0.9944. Validation loss: 1.0406. Validation accuracy: 63.852%\n",
            "Epoch 53. Training loss: 0.9922. Validation loss: 1.0398. Validation accuracy: 63.733%\n",
            "Epoch 54. Training loss: 0.9901. Validation loss: 1.0395. Validation accuracy: 63.556%\n",
            "Epoch 55. Training loss: 0.9881. Validation loss: 1.0389. Validation accuracy: 63.615%\n",
            "Epoch 56. Training loss: 0.9860. Validation loss: 1.0380. Validation accuracy: 63.615%\n",
            "Epoch 57. Training loss: 0.9840. Validation loss: 1.0372. Validation accuracy: 63.733%\n",
            "Epoch 58. Training loss: 0.9820. Validation loss: 1.0369. Validation accuracy: 63.763%\n",
            "Epoch 59. Training loss: 0.9800. Validation loss: 1.0360. Validation accuracy: 63.970%\n",
            "Epoch 60. Training loss: 0.9780. Validation loss: 1.0353. Validation accuracy: 63.881%\n",
            "Epoch 61. Training loss: 0.9761. Validation loss: 1.0349. Validation accuracy: 63.911%\n",
            "Epoch 62. Training loss: 0.9741. Validation loss: 1.0343. Validation accuracy: 63.941%\n",
            "Epoch 63. Training loss: 0.9722. Validation loss: 1.0338. Validation accuracy: 64.000%\n",
            "Epoch 64. Training loss: 0.9703. Validation loss: 1.0333. Validation accuracy: 64.148%\n",
            "Epoch 65. Training loss: 0.9685. Validation loss: 1.0329. Validation accuracy: 64.178%\n",
            "Epoch 66. Training loss: 0.9667. Validation loss: 1.0325. Validation accuracy: 64.296%\n",
            "Epoch 67. Training loss: 0.9648. Validation loss: 1.0323. Validation accuracy: 64.296%\n",
            "Epoch 68. Training loss: 0.9630. Validation loss: 1.0321. Validation accuracy: 64.237%\n",
            "Epoch 69. Training loss: 0.9613. Validation loss: 1.0315. Validation accuracy: 64.207%\n",
            "Epoch 70. Training loss: 0.9596. Validation loss: 1.0314. Validation accuracy: 64.237%\n",
            "Epoch 71. Training loss: 0.9579. Validation loss: 1.0313. Validation accuracy: 64.267%\n",
            "Epoch 72. Training loss: 0.9563. Validation loss: 1.0310. Validation accuracy: 64.207%\n",
            "Epoch 73. Training loss: 0.9546. Validation loss: 1.0308. Validation accuracy: 64.030%\n",
            "Epoch 74. Training loss: 0.9530. Validation loss: 1.0304. Validation accuracy: 64.207%\n",
            "Epoch 75. Training loss: 0.9514. Validation loss: 1.0299. Validation accuracy: 64.178%\n",
            "Epoch 76. Training loss: 0.9499. Validation loss: 1.0300. Validation accuracy: 64.326%\n",
            "\n",
            "------Early Stopping------\n",
            "\n",
            "\n",
            "End of training.\n"
          ],
          "name": "stdout"
        },
        {
          "output_type": "execute_result",
          "data": {
            "text/plain": [
              "64.32592868804932"
            ]
          },
          "metadata": {
            "tags": []
          },
          "execution_count": 19
        }
      ]
    },
    {
      "cell_type": "code",
      "metadata": {
        "id": "iwiWSc-_AflD",
        "colab_type": "code",
        "colab": {
          "base_uri": "https://localhost:8080/",
          "height": 35
        },
        "outputId": "72d20d4e-d33d-4a55-c724-f1dfef4eb482"
      },
      "source": [
        "test_data = traffic('test')\n",
        "\n",
        "for inputs_batch, targets_batch in test_data:\n",
        "    test_accuracy = sess.run([accuracy],\n",
        "                     feed_dict={inputs: inputs_batch, targets: targets_batch})\n",
        "\n",
        "\n",
        "test_accuracy_percent = test_accuracy[0] * 100.\n",
        "\n",
        "# Print the test accuracy\n",
        "print('Test accuracy: '+'{0:.2f}'.format(test_accuracy_percent)+'%')"
      ],
      "execution_count": 20,
      "outputs": [
        {
          "output_type": "stream",
          "text": [
            "Test accuracy: 64.98%\n"
          ],
          "name": "stdout"
        }
      ]
    },
    {
      "cell_type": "code",
      "metadata": {
        "id": "6oU4Io-GAflH",
        "colab_type": "code",
        "colab": {
          "base_uri": "https://localhost:8080/",
          "height": 35
        },
        "outputId": "e90b08ab-89c1-4b06-f6f7-c77b3eac6026"
      },
      "source": [
        "prediction=tf.argmax(targets,1)\n",
        "best = sess.run([prediction],{inputs: inputs_batch, targets: targets_batch})\n",
        "print(best)"
      ],
      "execution_count": 21,
      "outputs": [
        {
          "output_type": "stream",
          "text": [
            "[array([1, 1, 3, ..., 0, 4, 5])]\n"
          ],
          "name": "stdout"
        }
      ]
    },
    {
      "cell_type": "code",
      "metadata": {
        "id": "dZYqoiABAflO",
        "colab_type": "code",
        "colab": {
          "base_uri": "https://localhost:8080/",
          "height": 35
        },
        "outputId": "91ce20f5-0a5f-46dc-8515-d64c17568b17"
      },
      "source": [
        "best"
      ],
      "execution_count": 30,
      "outputs": [
        {
          "output_type": "execute_result",
          "data": {
            "text/plain": [
              "[array([1, 1, 3, ..., 0, 4, 5])]"
            ]
          },
          "metadata": {
            "tags": []
          },
          "execution_count": 30
        }
      ]
    },
    {
      "cell_type": "code",
      "metadata": {
        "id": "fWD2MoymEHwt",
        "colab_type": "code",
        "colab": {}
      },
      "source": [
        "import pandas as pd"
      ],
      "execution_count": 0,
      "outputs": []
    },
    {
      "cell_type": "code",
      "metadata": {
        "id": "bzRPt0-VE9ga",
        "colab_type": "code",
        "colab": {}
      },
      "source": [
        "arr=pd.DataFrame(best)"
      ],
      "execution_count": 0,
      "outputs": []
    },
    {
      "cell_type": "code",
      "metadata": {
        "id": "R-pd7BoyFBgA",
        "colab_type": "code",
        "colab": {
          "base_uri": "https://localhost:8080/",
          "height": 127
        },
        "outputId": "2bc28832-8416-4d53-ccd9-5842d174acb9"
      },
      "source": [
        "arr"
      ],
      "execution_count": 33,
      "outputs": [
        {
          "output_type": "execute_result",
          "data": {
            "text/html": [
              "<div>\n",
              "<style scoped>\n",
              "    .dataframe tbody tr th:only-of-type {\n",
              "        vertical-align: middle;\n",
              "    }\n",
              "\n",
              "    .dataframe tbody tr th {\n",
              "        vertical-align: top;\n",
              "    }\n",
              "\n",
              "    .dataframe thead th {\n",
              "        text-align: right;\n",
              "    }\n",
              "</style>\n",
              "<table border=\"1\" class=\"dataframe\">\n",
              "  <thead>\n",
              "    <tr style=\"text-align: right;\">\n",
              "      <th></th>\n",
              "      <th>0</th>\n",
              "      <th>1</th>\n",
              "      <th>2</th>\n",
              "      <th>3</th>\n",
              "      <th>4</th>\n",
              "      <th>5</th>\n",
              "      <th>6</th>\n",
              "      <th>7</th>\n",
              "      <th>8</th>\n",
              "      <th>9</th>\n",
              "      <th>10</th>\n",
              "      <th>11</th>\n",
              "      <th>12</th>\n",
              "      <th>13</th>\n",
              "      <th>14</th>\n",
              "      <th>15</th>\n",
              "      <th>16</th>\n",
              "      <th>17</th>\n",
              "      <th>18</th>\n",
              "      <th>19</th>\n",
              "      <th>20</th>\n",
              "      <th>21</th>\n",
              "      <th>22</th>\n",
              "      <th>23</th>\n",
              "      <th>24</th>\n",
              "      <th>25</th>\n",
              "      <th>26</th>\n",
              "      <th>27</th>\n",
              "      <th>28</th>\n",
              "      <th>29</th>\n",
              "      <th>30</th>\n",
              "      <th>31</th>\n",
              "      <th>32</th>\n",
              "      <th>33</th>\n",
              "      <th>34</th>\n",
              "      <th>35</th>\n",
              "      <th>36</th>\n",
              "      <th>37</th>\n",
              "      <th>38</th>\n",
              "      <th>39</th>\n",
              "      <th>...</th>\n",
              "      <th>3335</th>\n",
              "      <th>3336</th>\n",
              "      <th>3337</th>\n",
              "      <th>3338</th>\n",
              "      <th>3339</th>\n",
              "      <th>3340</th>\n",
              "      <th>3341</th>\n",
              "      <th>3342</th>\n",
              "      <th>3343</th>\n",
              "      <th>3344</th>\n",
              "      <th>3345</th>\n",
              "      <th>3346</th>\n",
              "      <th>3347</th>\n",
              "      <th>3348</th>\n",
              "      <th>3349</th>\n",
              "      <th>3350</th>\n",
              "      <th>3351</th>\n",
              "      <th>3352</th>\n",
              "      <th>3353</th>\n",
              "      <th>3354</th>\n",
              "      <th>3355</th>\n",
              "      <th>3356</th>\n",
              "      <th>3357</th>\n",
              "      <th>3358</th>\n",
              "      <th>3359</th>\n",
              "      <th>3360</th>\n",
              "      <th>3361</th>\n",
              "      <th>3362</th>\n",
              "      <th>3363</th>\n",
              "      <th>3364</th>\n",
              "      <th>3365</th>\n",
              "      <th>3366</th>\n",
              "      <th>3367</th>\n",
              "      <th>3368</th>\n",
              "      <th>3369</th>\n",
              "      <th>3370</th>\n",
              "      <th>3371</th>\n",
              "      <th>3372</th>\n",
              "      <th>3373</th>\n",
              "      <th>3374</th>\n",
              "    </tr>\n",
              "  </thead>\n",
              "  <tbody>\n",
              "    <tr>\n",
              "      <th>0</th>\n",
              "      <td>1</td>\n",
              "      <td>1</td>\n",
              "      <td>3</td>\n",
              "      <td>2</td>\n",
              "      <td>0</td>\n",
              "      <td>6</td>\n",
              "      <td>0</td>\n",
              "      <td>5</td>\n",
              "      <td>8</td>\n",
              "      <td>1</td>\n",
              "      <td>1</td>\n",
              "      <td>1</td>\n",
              "      <td>0</td>\n",
              "      <td>5</td>\n",
              "      <td>1</td>\n",
              "      <td>1</td>\n",
              "      <td>1</td>\n",
              "      <td>0</td>\n",
              "      <td>6</td>\n",
              "      <td>1</td>\n",
              "      <td>0</td>\n",
              "      <td>6</td>\n",
              "      <td>1</td>\n",
              "      <td>1</td>\n",
              "      <td>1</td>\n",
              "      <td>6</td>\n",
              "      <td>0</td>\n",
              "      <td>8</td>\n",
              "      <td>0</td>\n",
              "      <td>5</td>\n",
              "      <td>8</td>\n",
              "      <td>6</td>\n",
              "      <td>6</td>\n",
              "      <td>0</td>\n",
              "      <td>4</td>\n",
              "      <td>0</td>\n",
              "      <td>1</td>\n",
              "      <td>5</td>\n",
              "      <td>6</td>\n",
              "      <td>0</td>\n",
              "      <td>...</td>\n",
              "      <td>10</td>\n",
              "      <td>1</td>\n",
              "      <td>8</td>\n",
              "      <td>1</td>\n",
              "      <td>6</td>\n",
              "      <td>5</td>\n",
              "      <td>5</td>\n",
              "      <td>0</td>\n",
              "      <td>1</td>\n",
              "      <td>0</td>\n",
              "      <td>1</td>\n",
              "      <td>10</td>\n",
              "      <td>1</td>\n",
              "      <td>0</td>\n",
              "      <td>0</td>\n",
              "      <td>1</td>\n",
              "      <td>1</td>\n",
              "      <td>0</td>\n",
              "      <td>8</td>\n",
              "      <td>5</td>\n",
              "      <td>1</td>\n",
              "      <td>5</td>\n",
              "      <td>8</td>\n",
              "      <td>1</td>\n",
              "      <td>2</td>\n",
              "      <td>1</td>\n",
              "      <td>5</td>\n",
              "      <td>10</td>\n",
              "      <td>5</td>\n",
              "      <td>1</td>\n",
              "      <td>0</td>\n",
              "      <td>1</td>\n",
              "      <td>0</td>\n",
              "      <td>4</td>\n",
              "      <td>1</td>\n",
              "      <td>8</td>\n",
              "      <td>1</td>\n",
              "      <td>0</td>\n",
              "      <td>4</td>\n",
              "      <td>5</td>\n",
              "    </tr>\n",
              "  </tbody>\n",
              "</table>\n",
              "<p>1 rows × 3375 columns</p>\n",
              "</div>"
            ],
            "text/plain": [
              "   0     1     2     3     4     5     ...  3369  3370  3371  3372  3373  3374\n",
              "0     1     1     3     2     0     6  ...     1     8     1     0     4     5\n",
              "\n",
              "[1 rows x 3375 columns]"
            ]
          },
          "metadata": {
            "tags": []
          },
          "execution_count": 33
        }
      ]
    },
    {
      "cell_type": "code",
      "metadata": {
        "id": "Yw5JPwZzFC3N",
        "colab_type": "code",
        "colab": {}
      },
      "source": [
        ""
      ],
      "execution_count": 0,
      "outputs": []
    }
  ]
}