{
  "nbformat": 4,
  "nbformat_minor": 0,
  "metadata": {
    "colab": {
      "name": "Untitled0.ipynb",
      "version": "0.3.2",
      "provenance": [],
      "include_colab_link": true
    },
    "kernelspec": {
      "name": "python3",
      "display_name": "Python 3"
    }
  },
  "cells": [
    {
      "cell_type": "markdown",
      "metadata": {
        "id": "view-in-github",
        "colab_type": "text"
      },
      "source": [
        "<a href=\"https://colab.research.google.com/github/theroyalraj/Deep-Learning/blob/master/Digit%20Recognition(using%20MNIST%20example%20Dataset).ipynb\" target=\"_parent\"><img src=\"https://colab.research.google.com/assets/colab-badge.svg\" alt=\"Open In Colab\"/></a>"
      ]
    },
    {
      "cell_type": "code",
      "metadata": {
        "id": "s2FYndp3Fepq",
        "colab_type": "code",
        "outputId": "0019b490-6056-420c-d371-e514c040f6c1",
        "colab": {
          "base_uri": "https://localhost:8080/",
          "height": 547
        }
      },
      "source": [
        "import numpy as np\n",
        "import tensorflow as tf\n",
        "from tensorflow.examples.tutorials.mnist import input_data\n",
        "\n",
        "mnist = input_data.read_data_sets(\"MNIST_data/\", one_hot=True)"
      ],
      "execution_count": 0,
      "outputs": [
        {
          "output_type": "stream",
          "text": [
            "WARNING: Logging before flag parsing goes to stderr.\n",
            "W0724 17:45:09.208795 140572385982336 deprecation.py:323] From <ipython-input-1-03e2ed9757cd>:5: read_data_sets (from tensorflow.contrib.learn.python.learn.datasets.mnist) is deprecated and will be removed in a future version.\n",
            "Instructions for updating:\n",
            "Please use alternatives such as official/mnist/dataset.py from tensorflow/models.\n",
            "W0724 17:45:09.210734 140572385982336 deprecation.py:323] From /usr/local/lib/python3.6/dist-packages/tensorflow/contrib/learn/python/learn/datasets/mnist.py:260: maybe_download (from tensorflow.contrib.learn.python.learn.datasets.base) is deprecated and will be removed in a future version.\n",
            "Instructions for updating:\n",
            "Please write your own downloading logic.\n",
            "W0724 17:45:09.217844 140572385982336 deprecation.py:323] From /usr/local/lib/python3.6/dist-packages/tensorflow/contrib/learn/python/learn/datasets/base.py:252: _internal_retry.<locals>.wrap.<locals>.wrapped_fn (from tensorflow.contrib.learn.python.learn.datasets.base) is deprecated and will be removed in a future version.\n",
            "Instructions for updating:\n",
            "Please use urllib or similar directly.\n",
            "W0724 17:45:09.312509 140572385982336 deprecation.py:323] From /usr/local/lib/python3.6/dist-packages/tensorflow/contrib/learn/python/learn/datasets/mnist.py:262: extract_images (from tensorflow.contrib.learn.python.learn.datasets.mnist) is deprecated and will be removed in a future version.\n",
            "Instructions for updating:\n",
            "Please use tf.data to implement this functionality.\n"
          ],
          "name": "stderr"
        },
        {
          "output_type": "stream",
          "text": [
            "Successfully downloaded train-images-idx3-ubyte.gz 9912422 bytes.\n",
            "Extracting MNIST_data/train-images-idx3-ubyte.gz\n"
          ],
          "name": "stdout"
        },
        {
          "output_type": "stream",
          "text": [
            "W0724 17:45:09.623131 140572385982336 deprecation.py:323] From /usr/local/lib/python3.6/dist-packages/tensorflow/contrib/learn/python/learn/datasets/mnist.py:267: extract_labels (from tensorflow.contrib.learn.python.learn.datasets.mnist) is deprecated and will be removed in a future version.\n",
            "Instructions for updating:\n",
            "Please use tf.data to implement this functionality.\n",
            "W0724 17:45:09.625832 140572385982336 deprecation.py:323] From /usr/local/lib/python3.6/dist-packages/tensorflow/contrib/learn/python/learn/datasets/mnist.py:110: dense_to_one_hot (from tensorflow.contrib.learn.python.learn.datasets.mnist) is deprecated and will be removed in a future version.\n",
            "Instructions for updating:\n",
            "Please use tf.one_hot on tensors.\n",
            "W0724 17:45:09.733063 140572385982336 deprecation.py:323] From /usr/local/lib/python3.6/dist-packages/tensorflow/contrib/learn/python/learn/datasets/mnist.py:290: DataSet.__init__ (from tensorflow.contrib.learn.python.learn.datasets.mnist) is deprecated and will be removed in a future version.\n",
            "Instructions for updating:\n",
            "Please use alternatives such as official/mnist/dataset.py from tensorflow/models.\n"
          ],
          "name": "stderr"
        },
        {
          "output_type": "stream",
          "text": [
            "Successfully downloaded train-labels-idx1-ubyte.gz 28881 bytes.\n",
            "Extracting MNIST_data/train-labels-idx1-ubyte.gz\n",
            "Successfully downloaded t10k-images-idx3-ubyte.gz 1648877 bytes.\n",
            "Extracting MNIST_data/t10k-images-idx3-ubyte.gz\n",
            "Successfully downloaded t10k-labels-idx1-ubyte.gz 4542 bytes.\n",
            "Extracting MNIST_data/t10k-labels-idx1-ubyte.gz\n"
          ],
          "name": "stdout"
        }
      ]
    },
    {
      "cell_type": "code",
      "metadata": {
        "id": "4c4iTtWAFgmr",
        "colab_type": "code",
        "outputId": "80d1226b-3386-481b-d913-3f1710cc5801",
        "colab": {
          "base_uri": "https://localhost:8080/",
          "height": 190
        }
      },
      "source": [
        "input_size = 784\n",
        "output_size = 10\n",
        "# Use same hidden layer size for both hidden layers. Not a necessity.\n",
        "hidden_layer_size = 50\n",
        "\n",
        "# Reset any variables left in memory from previous runs.\n",
        "tf.reset_default_graph()\n",
        "\n",
        "# As in the previous example - declare placeholders where the data will be fed into.\n",
        "inputs = tf.placeholder(tf.float32, [None, input_size])\n",
        "targets = tf.placeholder(tf.float32, [None, output_size])\n",
        "\n",
        "# Weights and biases for the first linear combination between the inputs and the first hidden layer.\n",
        "# Use get_variable in order to make use of the default TensorFlow initializer which is Xavier.\n",
        "weights_1 = tf.get_variable(\"weights_1\", [input_size, hidden_layer_size])\n",
        "biases_1 = tf.get_variable(\"biases_1\", [hidden_layer_size])\n",
        "\n",
        "# Operation between the inputs and the first hidden layer.\n",
        "# We've chosen ReLu as our activation function. You can try playing with different non-linearities.\n",
        "outputs_1 = tf.nn.relu(tf.matmul(inputs, weights_1) + biases_1)\n",
        "\n",
        "# Weights and biases for the second linear combination.\n",
        "# This is between the first and second hidden layers.\n",
        "weights_2 = tf.get_variable(\"weights_2\", [hidden_layer_size, hidden_layer_size])\n",
        "biases_2 = tf.get_variable(\"biases_2\", [hidden_layer_size])\n",
        "\n",
        "# Operation between the first and the second hidden layers. Again, we use ReLu.\n",
        "outputs_2 = tf.nn.relu(tf.matmul(outputs_1, weights_2) + biases_2)\n",
        "\n",
        "weights_3 = tf.get_variable(\"weights_3\", [hidden_layer_size, hidden_layer_size])\n",
        "biases_3 = tf.get_variable(\"biases_3\", [hidden_layer_size])\n",
        "\n",
        "# Operation between the first and the second hidden layers. Again, we use ReLu.\n",
        "outputs_3 = tf.nn.relu(tf.matmul(outputs_2, weights_3) + biases_3)\n",
        "\n",
        "# Weights and biases for the final linear combination.\n",
        "# That's between the second hidden layer and the output layer.\n",
        "weights_4 = tf.get_variable(\"weights_4\", [hidden_layer_size, output_size])\n",
        "biases_4 = tf.get_variable(\"biases_4\", [output_size])\n",
        "\n",
        "\n",
        "loss = tf.nn.softmax_cross_entropy_with_logits_v2(logits=outputs, labels=targets)\n",
        "\n",
        "# Get the average loss\n",
        "mean_loss = tf.reduce_mean(loss)\n",
        "\n",
        "# Define the optimization step. Using adaptive optimizers such as Adam in TensorFlow\n",
        "# is as simple as that.\n",
        "optimize = tf.train.AdamOptimizer(learning_rate=0.001).minimize(mean_loss)\n",
        "\n",
        "# Get a 0 or 1 for every input in the batch indicating whether it output the correct answer out of the 10.\n",
        "out_equals_target = tf.equal(tf.argmax(outputs, 1), tf.argmax(targets, 1))\n",
        "\n",
        "# Get the average accuracy of the outputs.\n",
        "accuracy = tf.reduce_mean(tf.cast(out_equals_target, tf.float32))\n",
        "\n",
        "# Declare the session variable.\n",
        "sess = tf.InteractiveSession()\n",
        "\n",
        "# Initialize the variables. Default initializer is Xavier.\n",
        "initializer = tf.global_variables_initializer()\n",
        "sess.run(initializer)\n",
        "\n",
        "# Batching\n",
        "batch_size = 50\n",
        "\n",
        "# Calculate the number of batches per epoch for the training set.\n",
        "batches_number = mnist.train._num_examples // batch_size\n",
        "\n",
        "# Basic early stopping. Set a miximum number of epochs.\n",
        "max_epochs = 25\n",
        "\n",
        "# Keep track of the validation loss of the previous epoch.\n",
        "# If the validation loss becomes increasing, we want to trigger early stopping.\n",
        "# We initially set it at some arbitrarily high number to make sure we don't trigger it\n",
        "# at the first epoch\n",
        "prev_validation_loss = 9999999.\n",
        "\n",
        "\n",
        "# Create a loop for the epochs. Epoch_counter is a variable which automatically starts from 0.\n",
        "for epoch_counter in range(max_epochs):\n",
        "    \n",
        "    # Keep track of the sum of batch losses in the epoch.\n",
        "    curr_epoch_loss = 0.\n",
        "    \n",
        "    # Iterate over the batches in this epoch.\n",
        "    for batch_counter in range(batches_number):\n",
        "        \n",
        "        # Input batch and target batch are assigned values from the train dataset, given a batch size\n",
        "        input_batch, target_batch = mnist.train.next_batch(batch_size)\n",
        "        \n",
        "        # Run the optimization step and get the mean loss for this batch.\n",
        "        # Feed it with the inputs and the targets we just got from the train dataset\n",
        "        _, batch_loss = sess.run([optimize, mean_loss], \n",
        "            feed_dict={inputs: input_batch, targets: target_batch})\n",
        "        \n",
        "        # Increment the sum of batch losses.\n",
        "        curr_epoch_loss += batch_loss\n",
        "    \n",
        "    # So far curr_epoch_loss contained the sum of all batches inside the epoch\n",
        "    # We want to find the average batch losses over the whole epoch\n",
        "    # The average batch loss is a good proxy for the current epoch loss\n",
        "    curr_epoch_loss /= batches_number\n",
        "    \n",
        "    # At the end of each epoch, get the validation loss and accuracy\n",
        "    # Get the input batch and the target batch from the validation dataset\n",
        "    input_batch, target_batch = mnist.validation.next_batch(mnist.validation._num_examples)\n",
        "    \n",
        "    # Run without the optimization step (simply forward propagate)\n",
        "    validation_loss, validation_accuracy = sess.run([mean_loss, accuracy], \n",
        "        feed_dict={inputs: input_batch, targets: target_batch})\n",
        "    \n",
        "    # Print statistics for the current epoch\n",
        "    # Epoch counter + 1, because epoch_counter automatically starts from 0, instead of 1\n",
        "    # We format the losses with 3 digits after the dot\n",
        "    # We format the accuracy in percentages for easier interpretation\n",
        "    print('Epoch '+str(epoch_counter+1)+\n",
        "          '. Mean loss: '+'{0:.3f}'.format(curr_epoch_loss)+\n",
        "          '. Validation loss: '+'{0:.3f}'.format(validation_loss)+\n",
        "          '. Validation accuracy: '+'{0:.2f}'.format(validation_accuracy * 100.)+'%')\n",
        "    \n",
        "    # Trigger early stopping if validation loss begins increasing.\n",
        "    if validation_loss > prev_validation_loss:\n",
        "        break\n",
        "        \n",
        "    # Store this epoch's validation loss to be used as previous validation loss in the next iteration.\n",
        "    prev_validation_loss = validation_loss\n",
        "\n",
        "# Not essential, but it is nice to know when the algorithm stopped working in the output section, rather than check the kernel\n",
        "print('End of training.')"
      ],
      "execution_count": 0,
      "outputs": [
        {
          "output_type": "stream",
          "text": [
            "/usr/local/lib/python3.6/dist-packages/tensorflow/python/client/session.py:1735: UserWarning: An interactive session is already active. This can cause out-of-memory errors in some cases. You must explicitly call `InteractiveSession.close()` to release resources held by the other session(s).\n",
            "  warnings.warn('An interactive session is already active. This can '\n"
          ],
          "name": "stderr"
        },
        {
          "output_type": "stream",
          "text": [
            "Epoch 1. Mean loss: 0.333. Validation loss: 0.163. Validation accuracy: 95.46%\n",
            "Epoch 2. Mean loss: 0.156. Validation loss: 0.146. Validation accuracy: 95.60%\n",
            "Epoch 3. Mean loss: 0.114. Validation loss: 0.122. Validation accuracy: 96.36%\n",
            "Epoch 4. Mean loss: 0.096. Validation loss: 0.105. Validation accuracy: 96.82%\n",
            "Epoch 5. Mean loss: 0.076. Validation loss: 0.093. Validation accuracy: 97.44%\n",
            "Epoch 6. Mean loss: 0.066. Validation loss: 0.112. Validation accuracy: 96.48%\n",
            "End of training.\n"
          ],
          "name": "stdout"
        }
      ]
    },
    {
      "cell_type": "code",
      "metadata": {
        "id": "ki7Emhx1FlAe",
        "colab_type": "code",
        "outputId": "9dfa3feb-e74d-4e6c-9520-6d1f23056211",
        "colab": {
          "base_uri": "https://localhost:8080/",
          "height": 34
        }
      },
      "source": [
        "input_batch, target_batch = mnist.test.next_batch(mnist.test._num_examples) \n",
        "test_loss, test_accuracy = sess.run([mean_loss, accuracy], \n",
        "feed_dict={inputs: input_batch, targets: target_batch})   \n",
        "test_accuracy*100"
      ],
      "execution_count": 0,
      "outputs": [
        {
          "output_type": "execute_result",
          "data": {
            "text/plain": [
              "96.41000032424927"
            ]
          },
          "metadata": {
            "tags": []
          },
          "execution_count": 28
        }
      ]
    },
    {
      "cell_type": "code",
      "metadata": {
        "id": "UP4sgzPaJfuT",
        "colab_type": "code",
        "colab": {}
      },
      "source": [
        ""
      ],
      "execution_count": 0,
      "outputs": []
    },
    {
      "cell_type": "code",
      "metadata": {
        "id": "SY--gEoPGVQa",
        "colab_type": "code",
        "outputId": "0e0af936-fb49-4e87-b1c2-e6c87fd65ab9",
        "colab": {
          "base_uri": "https://localhost:8080/",
          "height": 34
        }
      },
      "source": [
        "test_loss"
      ],
      "execution_count": 0,
      "outputs": [
        {
          "output_type": "execute_result",
          "data": {
            "text/plain": [
              "0.20036921"
            ]
          },
          "metadata": {
            "tags": []
          },
          "execution_count": 20
        }
      ]
    },
    {
      "cell_type": "code",
      "metadata": {
        "id": "kghM8tOBGf-K",
        "colab_type": "code",
        "outputId": "b46f9f0b-27d7-4729-a000-4a6a923fbe70",
        "colab": {
          "base_uri": "https://localhost:8080/",
          "height": 34
        }
      },
      "source": [
        "test_accuracy*100"
      ],
      "execution_count": 0,
      "outputs": [
        {
          "output_type": "execute_result",
          "data": {
            "text/plain": [
              "0.9641"
            ]
          },
          "metadata": {
            "tags": []
          },
          "execution_count": 27
        }
      ]
    },
    {
      "cell_type": "code",
      "metadata": {
        "id": "-_UXqiOfGiiq",
        "colab_type": "code",
        "colab": {}
      },
      "source": [
        ""
      ],
      "execution_count": 0,
      "outputs": []
    }
  ]
}